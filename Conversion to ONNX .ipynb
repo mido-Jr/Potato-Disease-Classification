{
 "cells": [
  {
   "cell_type": "markdown",
   "id": "e76e8baf-ecd4-4c3d-851a-891e70119cab",
   "metadata": {},
   "source": [
    "# Conversion to ONNX from keras model using tf2onnx python api\n"
   ]
  },
  {
   "cell_type": "markdown",
   "id": "e66e1c6a-1aaa-4579-ba8a-12ac09ade91c",
   "metadata": {},
   "source": [
    "# Convert to ONNX using the command line"
   ]
  },
  {
   "cell_type": "code",
   "execution_count": 9,
   "id": "a6a671d5-39e5-479f-8475-172f7389116f",
   "metadata": {},
   "outputs": [
    {
     "name": "stdout",
     "output_type": "stream",
     "text": [
      "Project Path  D:\\Ahmed\\Githup\\Practice-AI\\Deep Learning Projects\\Potato Disease Classification\n",
      " Volume in drive D is New Volume\n",
      " Volume Serial Number is 8A0B-FA79\n",
      "\n",
      " Directory of D:\\Ahmed\\Githup\\Practice-AI\\Deep Learning Projects\\Potato Disease Classification\n",
      "\n",
      "01/21/2023  06:48 PM    <DIR>          .\n",
      "01/19/2023  11:23 AM    <DIR>          ..\n",
      "01/21/2023  05:32 PM    <DIR>          .ipynb_checkpoints\n",
      "01/21/2023  06:40 PM             2,954 Conversion to ONNX .ipynb\n",
      "01/19/2023  11:24 AM    <DIR>          data\n",
      "01/21/2023  03:23 PM            73,369 model.png\n",
      "01/21/2023  06:48 PM         1,358,359 Potato Disease.ipynb\n",
      "01/21/2023  06:47 PM    <DIR>          save_model\n",
      "               3 File(s)      1,434,682 bytes\n",
      "               5 Dir(s)  956,601,917,440 bytes free\n"
     ]
    }
   ],
   "source": [
    "# get the model Path\n",
    "Project_path = %pwd\n",
    "\n",
    "print(\"Project Path \", Project_path)\n",
    "\n",
    "%ls"
   ]
  },
  {
   "cell_type": "code",
   "execution_count": 14,
   "id": "a1de6949-23f5-4069-9c7a-dbe8024d5dcd",
   "metadata": {},
   "outputs": [
    {
     "name": "stderr",
     "output_type": "stream",
     "text": [
      "C:\\Users\\DELL\\.pyenv\\pyenv-win\\versions\\3.10.0\\lib\\runpy.py:126: RuntimeWarning: 'tf2onnx.convert' found in sys.modules after import of package 'tf2onnx', but prior to execution of 'tf2onnx.convert'; this may result in unpredictable behaviour\n",
      "  warn(RuntimeWarning(msg))\n",
      "2023-01-21 18:52:17,982 - WARNING - '--tag' not specified for saved_model. Using --tag serve\n",
      "2023-01-21 18:52:19,501 - INFO - Signatures found in model: [serving_default].\n",
      "2023-01-21 18:52:19,501 - WARNING - '--signature_def' not specified, using first signature: serving_default\n",
      "2023-01-21 18:52:19,501 - INFO - Output names: ['dense_1']\n",
      "2023-01-21 18:52:19,789 - INFO - Using tensorflow=2.10.0, onnx=1.13.0, tf2onnx=1.13.0/434b4a\n",
      "2023-01-21 18:52:19,789 - INFO - Using opset <onnx, 13>\n",
      "2023-01-21 18:52:19,843 - INFO - Computed 0 values for constant folding\n",
      "2023-01-21 18:52:19,899 - INFO - Optimizing ONNX model\n",
      "2023-01-21 18:52:20,129 - INFO - After optimization: Cast -1 (1->0), Identity -2 (2->0), Transpose -14 (16->2)\n",
      "2023-01-21 18:52:20,140 - INFO - \n",
      "2023-01-21 18:52:20,140 - INFO - Successfully converted TensorFlow model save_model to ONNX\n",
      "2023-01-21 18:52:20,140 - INFO - Model inputs: ['random_flip_input']\n",
      "2023-01-21 18:52:20,140 - INFO - Model outputs: ['dense_1']\n",
      "2023-01-21 18:52:20,140 - INFO - ONNX model is saved at save_model\\Mido.onnx\n"
     ]
    }
   ],
   "source": [
    "# Convert to ONNX using the command line\n",
    "\n",
    "!python3 -m tf2onnx.convert --opset 13 \\\n",
    "    --saved-model {os.path.join(\"\",\"save_model\" )} \\\n",
    "    --output  {os.path.join(\"save_model\" ,\"Mido\"+ \".onnx\")}"
   ]
  },
  {
   "cell_type": "code",
   "execution_count": null,
   "id": "c5d34ceb-37a4-469e-a788-0b0209b21f59",
   "metadata": {},
   "outputs": [],
   "source": []
  }
 ],
 "metadata": {
  "kernelspec": {
   "display_name": "Python 3 (ipykernel)",
   "language": "python",
   "name": "python3"
  },
  "language_info": {
   "codemirror_mode": {
    "name": "ipython",
    "version": 3
   },
   "file_extension": ".py",
   "mimetype": "text/x-python",
   "name": "python",
   "nbconvert_exporter": "python",
   "pygments_lexer": "ipython3",
   "version": "3.10.0"
  }
 },
 "nbformat": 4,
 "nbformat_minor": 5
}
